{
 "cells": [
  {
   "cell_type": "code",
   "execution_count": 4,
   "id": "d634329d",
   "metadata": {},
   "outputs": [
    {
     "name": "stdout",
     "output_type": "stream",
     "text": [
      "old_concert_singer__openai-gpt-4o_seed42_sample20_train_ratio0.5_fewshot2.json: 80.00% (10 samples)\n",
      "old_concert_singer__openai-gpt-4.1-mini_seed42_sample-1_train_ratio0_fewshot0.json: 69.70% (132 samples)\n",
      "old_concert_singer__openai-gpt-4.1-mini_seed42_sample10_train_ratio0_fewshot0.json: 90.00% (10 samples)\n",
      "new_concert_singer__openai-gpt-4.1-mini_seed42_sample-1_train_ratio0.1_fewshot3.json: 84.87% (119 samples)\n",
      "new_concert_singer__openai-gpt-4.1-mini_seed42_sample-1_train_ratio0_fewshot0.json: 70.45% (132 samples)\n",
      "old_concert_singer__openai-gpt-4o-mini_seed42_sample20_train_ratio0.5_fewshot2.json: 60.00% (10 samples)\n",
      "old_concert_singer__openai-gpt-4.1-mini_seed42_sample-1_train_ratio0.1_fewshot3.json: 76.47% (119 samples)\n",
      "new_concert_singer__openai-gpt-4.1-mini_seed42_sample-1_train_ratio0.15_fewshot3_cot.json: 90.27% (113 samples)\n"
     ]
    }
   ],
   "source": [
    "import json\n",
    "import utils.qpl.paths as p\n",
    "\n",
    "OUTPUTS_DIR = p.TYPES_OUTPUT_DIR\n",
    "\n",
    "def accuracy(data):\n",
    "    correct = 0\n",
    "    for d in data:\n",
    "        if d['actual_type'].strip().lower() == d['predicted_type'].strip().lower():\n",
    "            correct += 1\n",
    "    return correct / len(data) if data else 1\n",
    "            \n",
    "\n",
    "for output_file in OUTPUTS_DIR.iterdir():\n",
    "    if output_file.suffix == '.json':\n",
    "        data = json.loads(output_file.read_text())\n",
    "        acc = accuracy(data)\n",
    "        print(f\"{output_file.name}: {acc:.2%} ({len(data)} samples)\")"
   ]
  }
 ],
 "metadata": {
  "kernelspec": {
   "display_name": ".venv",
   "language": "python",
   "name": "python3"
  },
  "language_info": {
   "codemirror_mode": {
    "name": "ipython",
    "version": 3
   },
   "file_extension": ".py",
   "mimetype": "text/x-python",
   "name": "python",
   "nbconvert_exporter": "python",
   "pygments_lexer": "ipython3",
   "version": "3.11.12"
  }
 },
 "nbformat": 4,
 "nbformat_minor": 5
}
