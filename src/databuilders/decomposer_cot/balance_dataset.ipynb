{
 "cells": [
  {
   "cell_type": "code",
   "execution_count": null,
   "id": "b6217c66",
   "metadata": {},
   "outputs": [],
   "source": [
    "# Load the dataset and convert to pandas\n",
    "from datasets import load_dataset\n",
    "\n",
    "ds = load_dataset(\"d4nieldev/qpl-decomposer-cot-ds\")\n",
    "df = ds['train'].to_pandas()\n",
    "df"
   ]
  },
  {
   "cell_type": "code",
   "execution_count": null,
   "id": "bc42ee6b",
   "metadata": {},
   "outputs": [],
   "source": [
    "# Convert 'Top' to 'TopSort'\n",
    "df[df['op'] == 'Top'] = df[df['op'] == 'Top'].assign(op='TopSort')\n",
    "print(df['op'].value_counts())"
   ]
  },
  {
   "cell_type": "code",
   "execution_count": null,
   "id": "24ced8f6",
   "metadata": {},
   "outputs": [],
   "source": [
    "# Over/Under-sample the dataset\n",
    "import pandas as pd\n",
    "\n",
    "# Over/Under-sample ratios\n",
    "ratios = {\n",
    "    'Scan': 0.3,\n",
    "    'Aggregate': 1,\n",
    "    'Sort': 1,\n",
    "    'Join': 1,\n",
    "    'Filter': 2,\n",
    "    'TopSort': 1,\n",
    "    'Except': 2,\n",
    "    'Intersect': 2,\n",
    "    'Union': 5\n",
    "}\n",
    "\n",
    "def sample_group(group):\n",
    "    tag = group['op'].iloc[0]\n",
    "    ratio = ratios.get(tag, 1.0)\n",
    "    n = len(group)\n",
    "    target = int(round(n * ratio))\n",
    "    if ratio < 1:\n",
    "        return group.sample(frac=ratio)\n",
    "    elif ratio > 1:\n",
    "        full_repeats = target // n\n",
    "        rest = target % n\n",
    "        parts = [group] * full_repeats\n",
    "        if rest > 0:\n",
    "            parts.append(group.sample(n=rest))\n",
    "        return pd.concat(parts)\n",
    "    else:\n",
    "        return group\n",
    "\n",
    "sampled_groups = pd.concat([sample_group(g) for _, g in df.groupby('op')])\n",
    "balanced_df = sampled_groups.sample(frac=1).reset_index(drop=True)\n",
    "print(balanced_df['op'].value_counts())"
   ]
  },
  {
   "cell_type": "code",
   "execution_count": null,
   "id": "62a4d971",
   "metadata": {},
   "outputs": [],
   "source": [
    "merged = df.merge(balanced_df.drop_duplicates(), how='left', indicator=True)\n",
    "all_present = ((merged['_merge'] == 'both') | (merged['op'] == 'Scan')).all()\n",
    "print(all_present)"
   ]
  },
  {
   "cell_type": "code",
   "execution_count": null,
   "id": "09599896",
   "metadata": {},
   "outputs": [],
   "source": [
    "from datasets import Dataset\n",
    "\n",
    "ds['train'] = Dataset.from_pandas(balanced_df)\n",
    "ds.push_to_hub(\"d4nieldev/qpl-decomposer-cot-ds\")"
   ]
  }
 ],
 "metadata": {
  "kernelspec": {
   "display_name": ".venv",
   "language": "python",
   "name": "python3"
  },
  "language_info": {
   "codemirror_mode": {
    "name": "ipython",
    "version": 3
   },
   "file_extension": ".py",
   "mimetype": "text/x-python",
   "name": "python",
   "nbconvert_exporter": "python",
   "pygments_lexer": "ipython3",
   "version": "3.11.12"
  }
 },
 "nbformat": 4,
 "nbformat_minor": 5
}
