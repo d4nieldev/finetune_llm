{
 "cells": [
  {
   "cell_type": "code",
   "execution_count": 7,
   "id": "979ca065",
   "metadata": {},
   "outputs": [
    {
     "name": "stdout",
     "output_type": "stream",
     "text": [
      "results_decomposer=1808@sampling_completer=2664\n",
      "Accuracy: 71.37%, Error rate: 9.38%, Accuracy (no error): 78.76%\n",
      "results_decomposer=1808@sampling_completer=3996\n",
      "Accuracy: 71.66%, Error rate: 10.64%, Accuracy (no error): 80.19%\n",
      "results_decomposer=1808@sampling_completer=5316\n",
      "Accuracy: 70.21%, Error rate: 12.77%, Accuracy (no error): 80.49%\n",
      "results_decomposer=20958@first_greedy_completer=5316\n",
      "Accuracy: 68.28%, Error rate: 13.73%, Accuracy (no error): 79.15%\n",
      "results_decomposer=20958@greedy_completer=2664\n",
      "Accuracy: 70.12%, Error rate: 10.54%, Accuracy (no error): 78.38%\n",
      "results_decomposer=20958@greedy_completer=3996\n",
      "Accuracy: 22.24%, Error rate: 7.83%, Accuracy (no error): 24.13%\n",
      "results_decomposer=20958@greedy_completer=5316\n",
      "Accuracy: 69.73%, Error rate: 12.96%, Accuracy (no error): 80.11%\n",
      "results_decomposer=20958@sampling_completer=5316\n",
      "Accuracy: 67.79%, Error rate: 13.83%, Accuracy (no error): 78.68%\n",
      "results_decomposer=2712@sampling_completer=2664\n",
      "Accuracy: 70.41%, Error rate: 11.70%, Accuracy (no error): 79.74%\n",
      "results_decomposer=2712@sampling_completer=3996\n",
      "Accuracy: 71.76%, Error rate: 11.41%, Accuracy (no error): 81.00%\n",
      "results_decomposer=2712@sampling_completer=5316\n",
      "Accuracy: 70.02%, Error rate: 13.44%, Accuracy (no error): 80.89%\n",
      "results_decomposer=3616@sampling_completer=2664\n",
      "Accuracy: 73.31%, Error rate: 10.83%, Accuracy (no error): 82.21%\n",
      "results_decomposer=3616@sampling_completer=3996\n",
      "Accuracy: 73.79%, Error rate: 9.57%, Accuracy (no error): 81.60%\n",
      "results_decomposer=3616@sampling_completer=5316\n",
      "Accuracy: 73.31%, Error rate: 11.99%, Accuracy (no error): 83.30%\n"
     ]
    }
   ],
   "source": [
    "import json\n",
    "from pathlib import Path\n",
    "\n",
    "outputs_dir = Path('output/qpl/text_to_qpl')\n",
    "for output_file in sorted(outputs_dir.glob('*.json')):\n",
    "    if not output_file.stem.startswith('results'):\n",
    "        continue\n",
    "    with open(output_file, 'r') as f:\n",
    "        data = json.load(f)\n",
    "    acc = len([d for d in data if d['is_correct']])/len(data)\n",
    "    err = len([d for d in data if d['error']])/len(data)\n",
    "    acc_no_err = len([d for d in data if d['is_correct'] and not d['error']])/len([d for d in data if not d['error']])\n",
    "    print(output_file.stem)\n",
    "    print(f\"Accuracy: {acc*100:.2f}%, Error rate: {err*100:.2f}%, Accuracy (no error): {acc_no_err*100:.2f}%\")"
   ]
  }
 ],
 "metadata": {
  "kernelspec": {
   "display_name": "finetune-llm",
   "language": "python",
   "name": "python3"
  },
  "language_info": {
   "codemirror_mode": {
    "name": "ipython",
    "version": 3
   },
   "file_extension": ".py",
   "mimetype": "text/x-python",
   "name": "python",
   "nbconvert_exporter": "python",
   "pygments_lexer": "ipython3",
   "version": "3.11.12"
  }
 },
 "nbformat": 4,
 "nbformat_minor": 5
}
