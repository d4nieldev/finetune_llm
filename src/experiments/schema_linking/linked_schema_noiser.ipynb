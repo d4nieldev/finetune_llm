{
 "cells": [
  {
   "cell_type": "code",
   "execution_count": null,
   "id": "be40271f",
   "metadata": {},
   "outputs": [],
   "source": [
    "%load_ext autoreload\n",
    "%autoreload 2"
   ]
  },
  {
   "cell_type": "code",
   "execution_count": null,
   "id": "7c9da1d3",
   "metadata": {},
   "outputs": [],
   "source": [
    "from src.utils.tree import QPLTree\n",
    "from src.utils.schema import DBSchema, NoiseStrategy\n",
    "from datasets import load_dataset"
   ]
  },
  {
   "cell_type": "code",
   "execution_count": null,
   "id": "4a1b7011",
   "metadata": {},
   "outputs": [],
   "source": [
    "schemas = DBSchema.from_db_schemas_file()"
   ]
  },
  {
   "cell_type": "code",
   "execution_count": null,
   "id": "dbcd9f65",
   "metadata": {},
   "outputs": [],
   "source": [
    "completer_ds = load_dataset(\"d4nieldev/qpl-completer-ds\")\n",
    "original = []\n",
    "noise_levels = [0.1*i for i in range(11)]\n",
    "linked = [[] for _ in noise_levels]\n",
    "for split in completer_ds:\n",
    "    data = completer_ds[split]\n",
    "    for d in data:\n",
    "        db_id = d['db_id']\n",
    "        schema = schemas[db_id]\n",
    "        original.append(schema)\n",
    "        qpl_lines = []\n",
    "        if d['prefix_qpl']:\n",
    "            qpl_lines.extend([line.split(' ; ')[0] for line in d['prefix_qpl'].split('\\n')])\n",
    "        qpl_lines.append(d['qpl_line'])\n",
    "        qpl_tree = QPLTree.from_qpl_lines(qpl_lines)\n",
    "        for i, noise in enumerate(noise_levels):\n",
    "            d = {}\n",
    "            for noise_strategy in NoiseStrategy:\n",
    "                d[noise_strategy.value] = schema.link(qpl_tree.get_schema_items(), noise=noise, noise_strategy=noise_strategy)\n",
    "            linked[i].append(d)"
   ]
  },
  {
   "cell_type": "code",
   "execution_count": null,
   "id": "4c496c0e",
   "metadata": {},
   "outputs": [],
   "source": [
    "import matplotlib.pyplot as plt\n",
    "import numpy as np\n",
    "\n",
    "fig, axes = plt.subplots(1, len(NoiseStrategy), figsize=(15, 5))\n",
    "for i, strategy in enumerate(NoiseStrategy):\n",
    "    ax = axes[i]\n",
    "    means = []\n",
    "    stds = []\n",
    "    for j, noise in enumerate(noise_levels):\n",
    "        num_cols = [len(d[strategy.value]) / len(original[k]) for k, d in enumerate(linked[j])]\n",
    "        means.append(np.mean(num_cols))\n",
    "        stds.append(np.std(num_cols))\n",
    "    ax.errorbar(noise_levels, means, yerr=stds, fmt='-o')\n",
    "    ax.set_title(f'Strategy: {strategy.value}')\n",
    "    ax.set_xlabel('Noise Level')\n",
    "    ax.set_ylabel('Avg. Included Schema Items out of Total')\n",
    "\n",
    "plt.suptitle('Schema Items Included vs Noise Level for Different Strategies')\n",
    "plt.tight_layout()\n",
    "plt.show()"
   ]
  },
  {
   "cell_type": "code",
   "execution_count": null,
   "id": "feee1b89",
   "metadata": {},
   "outputs": [],
   "source": [
    "import matplotlib.pyplot as plt\n",
    "import numpy as np\n",
    "\n",
    "fig, axes = plt.subplots(1, len(NoiseStrategy), figsize=(15, 5))\n",
    "for i, strategy in enumerate(NoiseStrategy):\n",
    "    ax = axes[i]\n",
    "    means = []\n",
    "    stds = []\n",
    "    for j, noise in enumerate(noise_levels):\n",
    "        num_cols = [len(d[strategy.value].m_schema()) / len(original[k].m_schema()) for k, d in enumerate(linked[j])]\n",
    "        means.append(np.mean(num_cols))\n",
    "        stds.append(np.std(num_cols))\n",
    "    ax.errorbar(noise_levels, means, yerr=stds, fmt='-o')\n",
    "    ax.set_title(f'Strategy: {strategy.value}')\n",
    "    ax.set_xlabel('Noise Level')\n",
    "    ax.set_ylabel('M-Schema Length (characters)')\n",
    "\n",
    "plt.suptitle('M-Schema Length vs Noise Level for Different Strategies')\n",
    "plt.tight_layout()\n",
    "plt.show()"
   ]
  }
 ],
 "metadata": {
  "kernelspec": {
   "display_name": "qpl",
   "language": "python",
   "name": "python3"
  },
  "language_info": {
   "codemirror_mode": {
    "name": "ipython",
    "version": 3
   },
   "file_extension": ".py",
   "mimetype": "text/x-python",
   "name": "python",
   "nbconvert_exporter": "python",
   "pygments_lexer": "ipython3",
   "version": "3.13.5"
  }
 },
 "nbformat": 4,
 "nbformat_minor": 5
}
