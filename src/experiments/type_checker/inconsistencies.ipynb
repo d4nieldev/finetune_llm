{
 "cells": [
  {
   "cell_type": "markdown",
   "id": "4de0f16f",
   "metadata": {},
   "source": [
    "# Inconsistencies\n",
    "\n",
    "This notebook contains inconsistencies between **manually labled** type datasets, and **automatically generated** type datasets.\n",
    "\n",
    "This shows that some of the natural language questions, do not fully correspong to their gold QPL."
   ]
  },
  {
   "cell_type": "code",
   "execution_count": null,
   "id": "480bc1d8",
   "metadata": {},
   "outputs": [
    {
     "name": "stdout",
     "output_type": "stream",
     "text": [
      "Question: \u001b[92mList 1 for each ship that ended up being 'Captured'.\u001b[0m Manual: \u001b[91m'Number'\u001b[0m\n",
      "QPL: \u001b[94m#1 = Scan Table [ ship ] Predicate [ disposition_of_ship = 'Captured' ] Output [ disposition_of_ship ]\u001b[0m Auto: \u001b[91m'ship'\u001b[0m\n",
      "--------------------------------------------------------------------------------\n",
      "Question: \u001b[92mWhat are the lost battle ids that lost any 'Brig' type shipes?\u001b[0m Manual: \u001b[91m'battle'\u001b[0m\n",
      "QPL: \u001b[94m#2 = Scan Table [ ship ] Predicate [ ship_type = 'Brig' ] Output [ lost_in_battle , ship_type ]\u001b[0m Auto: \u001b[91m'ship, battle'\u001b[0m\n",
      "--------------------------------------------------------------------------------\n",
      "\u001b[93mSkipping row with error: Column 'name' not in GroupBy and thus must be aggregated.\u001b[0m\n",
      "\u001b[93mSkipping row with error: Column 'name' not in GroupBy and thus must be aggregated.\u001b[0m\n",
      "Question: \u001b[92mWhat is the ship id and name that caused most total injuries?\u001b[0m Manual: \u001b[91m'ship'\u001b[0m\n",
      "QPL: \u001b[94m#5 = TopSort [ #4 ] Rows [ 1 ] OrderBy [ Count_Star DESC ] Output [ id , Count_Star , name ]\u001b[0m Auto: \u001b[91m'Number, ship'\u001b[0m\n",
      "--------------------------------------------------------------------------------\n",
      "\u001b[93mSkipping row with error: Column 'COUNT(DISTINCT result)' not found.\u001b[0m\n",
      "Question: \u001b[92mFind the ids of the battles that lost ship with tonnage '225'.\u001b[0m Manual: \u001b[91m'battle'\u001b[0m\n",
      "QPL: \u001b[94m#2 = Scan Table [ ship ] Predicate [ tonnage = '225' ] Output [ tonnage , lost_in_battle ]\u001b[0m Auto: \u001b[91m'ship, battle'\u001b[0m\n",
      "--------------------------------------------------------------------------------\n",
      "Question: \u001b[92mList the id of the ship named 'Lettice'.\u001b[0m Manual: \u001b[91m'ship'\u001b[0m\n",
      "QPL: \u001b[94m#1 = Scan Table [ ship ] Predicate [ name = 'Lettice' ] Output [ name , lost_in_battle ]\u001b[0m Auto: \u001b[91m'ship, battle'\u001b[0m\n",
      "--------------------------------------------------------------------------------\n",
      "Question: \u001b[92mList the id of the ship named 'HMS Atalanta'.\u001b[0m Manual: \u001b[91m'ship'\u001b[0m\n",
      "QPL: \u001b[94m#4 = Scan Table [ ship ] Predicate [ name = 'HMS Atalanta' ] Output [ name , lost_in_battle ]\u001b[0m Auto: \u001b[91m'ship, battle'\u001b[0m\n",
      "--------------------------------------------------------------------------------\n",
      "Question: \u001b[92mShow ids of the battles with ships lost in the 'English Channel'.\u001b[0m Manual: \u001b[91m'battle'\u001b[0m\n",
      "QPL: \u001b[94m#2 = Scan Table [ ship ] Predicate [ location = 'English Channel' ] Output [ location , lost_in_battle ]\u001b[0m Auto: \u001b[91m'ship, battle'\u001b[0m\n",
      "--------------------------------------------------------------------------------\n",
      "Accuracy: 38/45 = 79.17%\n"
     ]
    }
   ],
   "source": [
    "import json\n",
    "from src.utils.pathsort AUTOMATICALLY_LABLED_TYPES_DATASETS, MANUALLY_LABLED_TYPES_DATASETS\n",
    "\n",
    "DB_ID = 'battle_death'\n",
    "filename = f'auto_{DB_ID}.json'\n",
    "\n",
    "with open(AUTOMATICALLY_LABLED_TYPES_DATASETS / filename, 'r') as f:\n",
    "    automatic = json.load(f)\n",
    "\n",
    "with open(MANUALLY_LABLED_TYPES_DATASETS / filename, 'r') as f:\n",
    "    manual = json.load(f)\n",
    "\n",
    "manual_labels = {row['question']: row['type'] for row in manual}\n",
    "\n",
    "acc = 0\n",
    "for row in automatic:\n",
    "    if 'error' in row:\n",
    "        print(f\"\\033[93mSkipping row with error: {row['error']}\\033[0m\")\n",
    "        continue\n",
    "    type_set = set(manual_labels[row['question']].split(', '))\n",
    "    pred_type_set = set(row['type'].split(', '))\n",
    "    if type_set == pred_type_set:\n",
    "        acc += 1\n",
    "    else:\n",
    "        # print(json.dumps(row, indent=2))\n",
    "        print(f\"Question: \\033[92m{row['question']}\\033[0m Manual: \\033[91m{manual_labels[row['question']]!r}\\033[0m\")\n",
    "        print(f\"QPL: \\033[94m{row['qpl'][-1]}\\033[0m Auto: \\033[91m{row['type']!r}\\033[0m\")\n",
    "        print(\"-\"*80)\n",
    "\n",
    "print(f\"Accuracy: {acc}/{len([row for row in automatic if 'error' not in row])} = {acc/len(automatic):.2%}\")"
   ]
  }
 ],
 "metadata": {
  "kernelspec": {
   "display_name": "finetune-llm",
   "language": "python",
   "name": "python3"
  },
  "language_info": {
   "codemirror_mode": {
    "name": "ipython",
    "version": 3
   },
   "file_extension": ".py",
   "mimetype": "text/x-python",
   "name": "python",
   "nbconvert_exporter": "python",
   "pygments_lexer": "ipython3",
   "version": "3.11.12"
  }
 },
 "nbformat": 4,
 "nbformat_minor": 5
}
