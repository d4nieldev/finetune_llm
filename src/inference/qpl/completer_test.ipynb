{
 "cells": [
  {
   "cell_type": "markdown",
   "id": "f9c4c8b7",
   "metadata": {},
   "source": [
    "# Completer Test\n",
    "\n",
    "This notebook is made for assessing the performence of the QPL completer alone"
   ]
  },
  {
   "cell_type": "markdown",
   "id": "70f3a957",
   "metadata": {},
   "source": [
    "## Generate Completions"
   ]
  },
  {
   "cell_type": "code",
   "execution_count": 1,
   "id": "0f4217b1",
   "metadata": {},
   "outputs": [
    {
     "name": "stderr",
     "output_type": "stream",
     "text": [
      "/home/danieloh/.conda/envs/qpl/lib/python3.13/site-packages/tqdm/auto.py:21: TqdmWarning: IProgress not found. Please update jupyter and ipywidgets. See https://ipywidgets.readthedocs.io/en/stable/user_install.html\n",
      "  from .autonotebook import tqdm as notebook_tqdm\n",
      "Loading checkpoint shards: 100%|██████████| 2/2 [00:01<00:00,  1.04it/s]\n"
     ]
    }
   ],
   "source": [
    "from transformers.models.auto.tokenization_auto import AutoTokenizer\n",
    "from peft import AutoPeftModelForCausalLM\n",
    "from datasets import load_dataset\n",
    "from tqdm import tqdm\n",
    "\n",
    "from src.prompters import PrompterRegistry\n",
    "from src.utils.generation import to_model_prompt, generate_batch\n",
    "import src.utils.paths as p\n",
    "\n",
    "# Constants\n",
    "BATCH_SIZE = 6\n",
    "MAX_NEW_TOKENS = 128\n",
    "MODEL_CKPT = \"output/models/855d8cb9_gemma-3-4b-it-qpl-composer-ds_train_batch_size=1_gradient_accumulation_steps=8_learning_rate=0.0002_num_train_epochs=4_gradient_checkpointing=True_logging_steps=0.00125_save_steps=0.0625_random_seed=1_lora=True_r=16_alpha=32_dropout=0.05/\"\n",
    "MODEL_PATH = MODEL_CKPT + \"/checkpoint-5316\"\n",
    "DATASET_ID = \"d4nieldev/qpl-completer-ds\"\n",
    "\n",
    "# Load model & tokenizer\n",
    "model = AutoPeftModelForCausalLM.from_pretrained(MODEL_PATH, attn_implementation='eager').to('cuda')\n",
    "model = model.eval()\n",
    "tokenizer = AutoTokenizer.from_pretrained(MODEL_PATH)"
   ]
  },
  {
   "cell_type": "code",
   "execution_count": 1,
   "id": "50266f20",
   "metadata": {},
   "outputs": [],
   "source": [
    "# Connect to SQL Server\n",
    "import pyodbc\n",
    "from src.inference.qpl.qpl_to_cte import flat_qpl_to_cte\n",
    "from src.inference.qpl.validate_qpl import execute_sql, same_rs\n",
    "\n",
    "connection_string = (\n",
    "    'Driver={ODBC Driver 18 for SQL Server};'\n",
    "    'Server=tcp:spider-sql.database.windows.net,1433;'\n",
    "    'Database=test;'\n",
    "    'Uid=iloveqpl;'\n",
    "    'Pwd=P4$$w0rd!;'\n",
    "    'Encrypt=yes;'\n",
    "    'TrustServerCertificate=no;'\n",
    "    'Connection Timeout=30;'\n",
    ")\n",
    "\n",
    "conn = pyodbc.connect(connection_string, autocommit=True)\n",
    "cursor = conn.cursor()"
   ]
  },
  {
   "cell_type": "markdown",
   "id": "7bddf002",
   "metadata": {},
   "source": [
    "## Evaluate"
   ]
  },
  {
   "cell_type": "markdown",
   "id": "69a950b2",
   "metadata": {},
   "source": [
    "### Line By Line"
   ]
  },
  {
   "cell_type": "code",
   "execution_count": null,
   "id": "564d434e",
   "metadata": {},
   "outputs": [],
   "source": [
    "# Load and process data\n",
    "test_dataset = list(load_dataset(DATASET_ID, split=\"validation\"))\n",
    "prompter = PrompterRegistry.get(DATASET_ID)(with_assistant=False)\n",
    "chat_templates = list(map(prompter.to_chat_template, test_dataset))\n",
    "prompts = list(map(lambda ct: to_model_prompt(tokenizer, ct), chat_templates))"
   ]
  },
  {
   "cell_type": "code",
   "execution_count": null,
   "id": "dfbca74b",
   "metadata": {},
   "outputs": [],
   "source": [
    "# Complete QPL\n",
    "outputs = generate_batch(\n",
    "    model=model,\n",
    "    tokenizer=tokenizer,\n",
    "    model_prompts=prompts,\n",
    "    batch_size=BATCH_SIZE,\n",
    "    max_new_tokens=MAX_NEW_TOKENS,\n",
    "    progress_bar=tqdm(total=len(prompts), desc=\"Completing QPL\"),\n",
    "    do_sample=False,\n",
    ")"
   ]
  },
  {
   "cell_type": "code",
   "execution_count": null,
   "id": "696d54f7",
   "metadata": {},
   "outputs": [],
   "source": [
    "# optional - save outputs\n",
    "import json\n",
    "\n",
    "with open('line_by_line_outputs.json', 'w') as f:\n",
    "    json.dump(outputs, f, indent=2)"
   ]
  },
  {
   "cell_type": "code",
   "execution_count": null,
   "id": "ea9632ae",
   "metadata": {},
   "outputs": [],
   "source": [
    "# optional - load outputs\n",
    "with open('line_by_line_outputs.json', 'r') as f:\n",
    "    outputs = json.load(f)"
   ]
  },
  {
   "cell_type": "code",
   "execution_count": null,
   "id": "6851ce8a",
   "metadata": {},
   "outputs": [],
   "source": [
    "# Calculate execution accuracy and error rate\n",
    "execution_accuracy = 0\n",
    "gold_errs = 0\n",
    "pred_errs = 0\n",
    "for out, example in tqdm(zip(outputs, test_dataset), desc=\"Evaluating\", total=len(outputs)):\n",
    "    gold = example['prefix_qpl'] + \"\\n\" + example['qpl_line']\n",
    "    pred = example['prefix_qpl'] + \"\\n\" + example['qpl_line'][:example['qpl_line'].index(' = ')+3] + example['op'] + ' ' + out\n",
    "\n",
    "    flat_gold = [line[:line.index('--')] if '--' in line else line for line in gold.split('\\n')]\n",
    "    flat_pred = [line[:line.index('--')] if '--' in line else line for line in pred.split('\\n')]\n",
    "\n",
    "    flat_gold = [l for l in flat_gold if l.strip()]\n",
    "    flat_pred = [l for l in flat_pred if l.strip() and '`' not in l]\n",
    "\n",
    "    gold_cte = flat_qpl_to_cte(flat_gold, example['db_id'])\n",
    "\n",
    "    try:\n",
    "        pred_cte = flat_qpl_to_cte(flat_pred, example['db_id'])\n",
    "    except Exception as e:\n",
    "        print(f\"Error converting prediction to CTE\\n{pred}\")\n",
    "        print(f\"Error: {e}\")\n",
    "        print('-'*20)\n",
    "        pred_errs += 1\n",
    "\n",
    "    try:\n",
    "        grs = execute_sql(cursor, gold_cte)\n",
    "    except Exception as e:\n",
    "        print(f\"Error executing gold QPL\\n{gold}\")\n",
    "        print(f\"Error: {e}\")\n",
    "        print('-'*20)\n",
    "        gold_errs += 1\n",
    "    else:\n",
    "        try:\n",
    "            prs = execute_sql(cursor, pred_cte)\n",
    "            same = same_rs(grs, prs, flat_pred)\n",
    "        except Exception as e:\n",
    "            print(f\"Error executing prediction QPL\\n{pred}\")\n",
    "            print(f\"Error: {e}\")\n",
    "            print('-'*20)\n",
    "            pred_errs += 1\n",
    "\n",
    "    if same:\n",
    "        execution_accuracy += 1\n",
    "\n",
    "print(f\"Execution accuracy: {execution_accuracy}/{len(outputs)} ({execution_accuracy / len(outputs) * 100:.2f}%)\")\n",
    "print(f\"Gold error rate: {gold_errs}/{len(outputs)} ({gold_errs / len(outputs) * 100:.2f}%)\")\n",
    "print(f\"Prediction error rate: {pred_errs}/{len(outputs)} ({pred_errs / len(outputs) * 100:.2f}%)\")"
   ]
  },
  {
   "cell_type": "markdown",
   "id": "272a44d7",
   "metadata": {},
   "source": [
    "### Full Tree With Perfect Decomposition"
   ]
  },
  {
   "cell_type": "code",
   "execution_count": 2,
   "id": "c7e73670",
   "metadata": {},
   "outputs": [
    {
     "name": "stderr",
     "output_type": "stream",
     "text": [
      "Constructing QD trees: 100%|██████████| 3027/3027 [00:00<00:00, 158075.60it/s]\n",
      "Completing QPL: 100%|██████████| 3274/3274 [35:12<00:00,  1.28node/s]"
     ]
    }
   ],
   "source": [
    "# Full tree\n",
    "from src.databuilders.completer.build import get_decomposer_roots\n",
    "from src.utils.qpl.tree import PartialQDTree, QPLQDTree\n",
    "from datasets import load_dataset\n",
    "from src.inference.qpl.text_to_qpl import complete\n",
    "\n",
    "# Load and process data\n",
    "def partial_qd_to_qd(tree: PartialQDTree) -> QPLQDTree:\n",
    "    \"\"\"Convert a PartialQDTree to a QPLQDTree.\"\"\"\n",
    "    qd_tree = QPLQDTree(\n",
    "        question=tree.question,\n",
    "        db_id=tree.db_id,\n",
    "        op=tree.op,\n",
    "    )\n",
    "    if tree.children:\n",
    "        qd_tree.children = tuple(partial_qd_to_qd(child) for child in tree.children)\n",
    "        for child in qd_tree.children:\n",
    "            child.parent = qd_tree\n",
    "    return qd_tree\n",
    "\n",
    "\n",
    "decomposer_data = load_dataset(\"bgunlp/question_decomposer_ds\", split=\"validation\")\n",
    "nl2qpl_data = load_dataset('d4nieldev/nl2qpl-ds', split='validation')\n",
    "root_questions = set(row['question'] for row in nl2qpl_data)\n",
    "decomposer_data = [row for row in decomposer_data if row['question'] not in [row['sub_question_1'], row['sub_question_2']]]\n",
    "root_qd_trees = get_decomposer_roots(decomposer_data, root_questions)\n",
    "root_qd_trees = [partial_qd_to_qd(tree) for tree in root_qd_trees]\n",
    "\n",
    "def post_order_index_tree(tree: QPLQDTree, counter: int = 1) -> int:\n",
    "    for child in tree.children:\n",
    "        counter = post_order_index_tree(child, counter)\n",
    "    tree.line_num = counter\n",
    "    return counter + 1\n",
    "\n",
    "for tree in root_qd_trees:\n",
    "    post_order_index_tree(tree)\n",
    "\n",
    "# Complete QPL for each tree\n",
    "complete(\n",
    "    trees=root_qd_trees,\n",
    "    prompter=PrompterRegistry.get(DATASET_ID)(with_assistant=False),\n",
    "    model=model,\n",
    "    tokenizer=tokenizer,\n",
    "    batch_size=BATCH_SIZE,\n",
    "    max_new_tokens=MAX_NEW_TOKENS,\n",
    ")"
   ]
  },
  {
   "cell_type": "code",
   "execution_count": 3,
   "id": "1d4ef8c8",
   "metadata": {},
   "outputs": [],
   "source": [
    "# optionally save outputs\n",
    "import json\n",
    "with open('full_tree_outputs_5316.json', 'w') as f:\n",
    "    json.dump([tree.to_dict() for tree in root_qd_trees], f, indent=2)"
   ]
  },
  {
   "cell_type": "code",
   "execution_count": 4,
   "id": "2b4ccac1",
   "metadata": {},
   "outputs": [],
   "source": [
    "# optional - load outputs\n",
    "import json\n",
    "from src.utils.qpl.tree import QPLQDTree\n",
    "from datasets import load_dataset\n",
    "\n",
    "nl2qpl_data = load_dataset('d4nieldev/nl2qpl-ds', split='validation')\n",
    "with open('full_tree_outputs_3996.json', 'r') as f:\n",
    "    root_qd_trees = [QPLQDTree.from_dict(tree) for tree in json.load(f)]"
   ]
  },
  {
   "cell_type": "code",
   "execution_count": null,
   "id": "770732b1",
   "metadata": {},
   "outputs": [
    {
     "name": "stderr",
     "output_type": "stream",
     "text": [
      "Processing examples:   9%|▉         | 94/1034 [00:02<00:23, 40.37it/s]"
     ]
    },
    {
     "name": "stdout",
     "output_type": "stream",
     "text": [
      "Error executing prediction QPL\n",
      "#1 = Scan Table [ countries ] Output [ Continent , Continent ] ; -- List the continent id of all countries.\n",
      "#2 = Aggregate [ #1 ] GroupBy [ Continent ] Output [ countstar AS Count_Star , Continent ] ; -- How many countries does each continent have? List the continent id.\n",
      "#3 = Scan Table [ continents ] Output [ ContId , Continent ] ; -- List the id and name of all continents.\n",
      "#4 = Join [ #2 , #3 ] Predicate [ #2.Continent = #3.ContId ] Output [ #3.Continent , #3.ContId , #2.Count_Star ] ; -- How many countries does each continent have? List the continent id, continent name and the number of countries.\n",
      "Error: ('42000', \"[42000] [Microsoft][ODBC Driver 18 for SQL Server][SQL Server]The column 'Continent' was specified multiple times for 'Scan_1'. (8156) (SQLExecDirectW)\")\n",
      "--------------------\n",
      "Error executing prediction QPL\n",
      "#1 = Scan Table [ countries ] Output [ Continent , Continent ] ; -- List the continent id of all countries.\n",
      "#2 = Aggregate [ #1 ] GroupBy [ Continent ] Output [ countstar AS Count_Star , Continent ] ; -- For each continent id, list how many countries it has?\n",
      "#3 = Scan Table [ continents ] Output [ ContId , Continent ] ; -- List the id and name of all continents.\n",
      "#4 = Join [ #2 , #3 ] Predicate [ #2.Continent = #3.ContId ] Output [ #3.Continent , #3.ContId , #2.Count_Star ] ; -- For each continent, list its id, name, and how many countries it has?\n",
      "Error: ('42000', \"[42000] [Microsoft][ODBC Driver 18 for SQL Server][SQL Server]The column 'Continent' was specified multiple times for 'Scan_1'. (8156) (SQLExecDirectW)\")\n",
      "--------------------\n"
     ]
    },
    {
     "name": "stderr",
     "output_type": "stream",
     "text": [
      "Processing examples:  14%|█▍        | 144/1034 [00:03<00:16, 55.51it/s]"
     ]
    },
    {
     "name": "stdout",
     "output_type": "stream",
     "text": [
      "Error executing prediction QPL\n",
      "#1 = Scan Table [ cars_data ] Predicate [ Brand = 'Volvo' ] Output [ Id , Brand ] ; -- What is the id of the cars for all volvos?\n",
      "#2 = Scan Table [ cars_data ] Output [ Edispl , Id ] ; -- What is the id and edispl of all cars?\n",
      "#3 = Join [ #1 , #2 ] Predicate [ #1.Id = #2.Id ] Output [ #2.Edispl ] ; -- What is the edispl of the cars for all volvos?\n",
      "#4 = Aggregate [ #3 ] Output [ AVG(Edispl) AS Avg_Edispl ] ; -- What is the average edispl for all volvos?\n",
      "Error: ('42S22', \"[42S22] [Microsoft][ODBC Driver 18 for SQL Server][SQL Server]Invalid column name 'Brand'. (207) (SQLExecDirectW)\")\n",
      "--------------------\n",
      "Error executing prediction QPL\n",
      "#1 = Scan Table [ cars_data ] Output [ Model ] ; -- Show the model of all cars.\n",
      "#2 = Aggregate [ #1 ] GroupBy [ Model ] Output [ countstar AS Count_Star , Model ] ; -- Show the different models and the number of cars correspond to each.\n",
      "#3 = TopSort [ #2 ] Rows [ 1 ] OrderBy [ Count_Star DESC ] Output [ Count_Star , Model ] ; -- Which model has the most version(make) of cars?\n",
      "Error: ('42S22', \"[42S22] [Microsoft][ODBC Driver 18 for SQL Server][SQL Server]Invalid column name 'Model'. (207) (SQLExecDirectW)\")\n",
      "--------------------\n"
     ]
    },
    {
     "name": "stderr",
     "output_type": "stream",
     "text": [
      "Processing examples:  15%|█▌        | 156/1034 [00:03<00:17, 49.11it/s]"
     ]
    },
    {
     "name": "stdout",
     "output_type": "stream",
     "text": [
      "Error executing prediction QPL\n",
      "#1 = Scan Table [ car_makers ] Output [ Id , FullName ] ; -- Find the ids and full names of all makers.\n",
      "#2 = Scan Table [ model_list ] Output [ Maker , Model ] ; -- Find the names and maker ids of all models.\n",
      "#3 = Scan Table [ model_list ] Output [ ModelId , Model ] ; -- Find the ids and models of all cars.\n",
      "#4 = Scan Table [ cars_data ] Output [ Weight , Id ] ; -- Find the ids and weights of all cars.\n",
      "#5 = Join [ #3 , #4 ] Predicate [ #3.ModelId = #4.Id ] Output [ #3.Model , #4.Weight ] ; -- Find the models and weights of all cars.\n",
      "#6 = Join [ #2 , #5 ] Predicate [ #2.Maker = #5.ModelId ] Output [ #5.Weight , #2.Maker , #5.Model ] ; -- Find the models and weights and maker ids of all cars.\n",
      "#7 = Join [ #1 , #6 ] Predicate [ #1.Id = #6.Maker ] Output [ #6.Model , #6.Weight , #1.FullName ] ; -- Find the models and weights and maker full names of all cars.\n",
      "#8 = Filter [ #7 ] Predicate [ Weight > 3500.0 OR FullName = 'General Motors' ] Distinct [ true ] Output [ Model ] ; -- Which distinctive models are produced by maker with the full name General Motors or weighing more than 3500?\n",
      "Error: ('42S22', \"[42S22] [Microsoft][ODBC Driver 18 for SQL Server][SQL Server]Invalid column name 'ModelId'. (207) (SQLExecDirectW)\")\n",
      "--------------------\n",
      "Error executing prediction QPL\n",
      "#1 = Scan Table [ car_makers ] Output [ Id , FullName ] ; -- What are the ids and full names of all car makers?\n",
      "#2 = Scan Table [ model_list ] Output [ Maker , Model ] ; -- What are the names and car maker ids of all models?\n",
      "#3 = Scan Table [ model_list ] Output [ ModelId , Model ] ; -- What are the ids and models of all cars?\n",
      "#4 = Scan Table [ cars_data ] Output [ Weight , Id ] ; -- What are the ids and weights of all cars?\n",
      "#5 = Join [ #3 , #4 ] Predicate [ #3.ModelId = #4.Id ] Output [ #3.Model , #4.Weight ] ; -- What are the models and weights of all cars?\n",
      "#6 = Join [ #2 , #5 ] Predicate [ #2.Model = #5.Model ] Output [ #2.Model , #5.Weight , #2.Maker ] ; -- What are the models and weights and car maker ids of all cars?\n",
      "#7 = Join [ #1 , #6 ] Predicate [ #1.Id = #6.Maker ] Output [ #6.Weight , #6.Maker , #6.Model ] ; -- What are the models and weights and car maker full names of all cars?\n",
      "#8 = Filter [ #7 ] Predicate [ Weight > 3500.0 OR Maker = 'General Motors' ] Output [ Model ] ; -- What are the different models created by either the car maker General Motors or weighed more than 3500?\n",
      "Error: ('22018', \"[22018] [Microsoft][ODBC Driver 18 for SQL Server][SQL Server]Conversion failed when converting the varchar value 'General Motors' to data type int. (245) (SQLExecDirectW)\")\n",
      "--------------------\n"
     ]
    },
    {
     "name": "stderr",
     "output_type": "stream",
     "text": [
      "Processing examples:  23%|██▎       | 238/1034 [00:05<00:25, 31.74it/s]"
     ]
    },
    {
     "name": "stdout",
     "output_type": "stream",
     "text": [
      "Error executing prediction QPL\n",
      "#1 = Scan Table [ flights ] Predicate [ DestAirport = 'AHD' ] Output [ DestAirport , Airline ] ; -- What are airline ids that have flights arriving at airport 'AHD'?\n",
      "#2 = Scan Table [ airlines ] Output [ Airline , uid ] ; -- What are the ids and names of all airlines?\n",
      "#3 = Join [ #1 , #2 ] Predicate [ #1.Airline = #2.uid ] Output [ #2.Airline , #2.name ] ; -- What are airlines that have flights arriving at airport 'AHD'?\n",
      "Error: ('42S22', \"[42S22] [Microsoft][ODBC Driver 18 for SQL Server][SQL Server]Invalid column name 'name'. (207) (SQLExecDirectW)\")\n",
      "--------------------\n"
     ]
    },
    {
     "name": "stderr",
     "output_type": "stream",
     "text": [
      "Processing examples:  26%|██▌       | 264/1034 [00:06<00:24, 31.97it/s]"
     ]
    },
    {
     "name": "stdout",
     "output_type": "stream",
     "text": [
      "Error executing prediction QPL\n",
      "#1 = Scan Table [ airports ] Output [ AirportCode , AirportName ] ; -- Find the codes and names of all airports.\n",
      "#2 = Scan Table [ flights ] Output [ SourceAirport ] ; -- Which airports codes have departing flights?\n",
      "#3 = Scan Table [ flights ] Output [ DestAirport ] ; -- Which airports codes have arriving flights?\n",
      "#4 = Union [ #2 , #3 ] Output [ #2.SourceAirport ] ; -- Which airports codes have departing or arriving flights?\n",
      "#5 = Except [ #1 , #4 ] Predicate [ #4.SourceAirport = #1.AirportCode ] Output [ #1.AirportName ] ; -- Which airports do not have departing or arriving flights?\n",
      "Error: ('42S22', \"[42S22] [Microsoft][ODBC Driver 18 for SQL Server][SQL Server]Invalid column name 'SourceAirport'. (207) (SQLExecDirectW)\")\n",
      "--------------------\n"
     ]
    },
    {
     "name": "stderr",
     "output_type": "stream",
     "text": [
      "Processing examples:  42%|████▏     | 435/1034 [00:11<00:18, 32.49it/s]"
     ]
    },
    {
     "name": "stdout",
     "output_type": "stream",
     "text": [
      "Error executing prediction QPL\n",
      "#1 = Scan Table [ player ] Output [ 1 AS One ] ; -- List 1 for each player.\n",
      "#2 = Aggregate [ #1 ] Output [ countstar AS Count_Star ] ; -- Find the total number of players.\n",
      "Error: ('42S02', \"[42S02] [Microsoft][ODBC Driver 18 for SQL Server][SQL Server]Invalid object name 'wta_1.player'. (208) (SQLExecDirectW)\")\n",
      "--------------------\n",
      "Error executing prediction QPL\n",
      "#1 = Scan Table [ player ] Output [ 1 AS One ] ; -- List 1 for each player.\n",
      "#2 = Aggregate [ #1 ] Output [ countstar AS Count_Star ] ; -- How many players are there?\n",
      "Error: ('42S02', \"[42S02] [Microsoft][ODBC Driver 18 for SQL Server][SQL Server]Invalid object name 'wta_1.player'. (208) (SQLExecDirectW)\")\n",
      "--------------------\n"
     ]
    },
    {
     "name": "stderr",
     "output_type": "stream",
     "text": [
      "Processing examples:  43%|████▎     | 448/1034 [00:11<00:16, 35.03it/s]"
     ]
    },
    {
     "name": "stdout",
     "output_type": "stream",
     "text": [
      "Error executing prediction QPL\n",
      "#1 = Scan Table [ country ] Distinct [ true ] Output [ country_code ] ; -- Find the distinct country codes of all players.\n",
      "#2 = Aggregate [ #1 ] Output [ countstar AS Count_Star ] ; -- find the number of distinct country codes of all players.\n",
      "Error: ('42S02', \"[42S02] [Microsoft][ODBC Driver 18 for SQL Server][SQL Server]Invalid object name 'wta_1.country'. (208) (SQLExecDirectW)\")\n",
      "--------------------\n",
      "Error executing prediction QPL\n",
      "#1 = Scan Table [ country ] Distinct [ true ] Output [ country_code ] ; -- Find the distinct country codes the players come from.\n",
      "#2 = Aggregate [ #1 ] Output [ countstar AS Count_Star ] ; -- How many distinct countries do players come from?\n",
      "Error: ('42S02', \"[42S02] [Microsoft][ODBC Driver 18 for SQL Server][SQL Server]Invalid object name 'wta_1.country'. (208) (SQLExecDirectW)\")\n",
      "--------------------\n"
     ]
    },
    {
     "name": "stderr",
     "output_type": "stream",
     "text": [
      "Processing examples:  44%|████▎     | 452/1034 [00:11<00:16, 35.41it/s]"
     ]
    },
    {
     "name": "stdout",
     "output_type": "stream",
     "text": [
      "Error executing prediction QPL\n",
      "#1 = Scan Table [ match ] Predicate [ round = 'WTA Championships' ] Output [ round , winner_id ] ; -- What are the id of the players who won in tourney WTA Championships?\n",
      "#2 = Scan Table [ players ] Output [ country_code , player_id , first_name ] ; -- What are the id, first name and country code of all players?\n",
      "#3 = Join [ #1 , #2 ] Predicate [ #1.winner_id = #2.player_id ] Output [ #2.country_code , #2.first_name ] ; -- What are the country code and first name of the players who won in tourney WTA Championships?\n",
      "#4 = Scan Table [ match ] Predicate [ tourney_name = 'Australian Open' ] Output [ tourney_name , winner_id ] ; -- What are the id of the players who won in tourney Australian Open?\n",
      "#5 = Scan Table [ players ] Output [ country_code , player_id , first_name ] ; -- What are the id, first name and country code of all players?\n",
      "#6 = Join [ #4 , #5 ] Predicate [ #4.winner_id = #5.player_id ] Output [ #5.country_code , #5.first_name ] ; -- What are the country code and first name of the players who won in tourney Australian Open?\n",
      "#7 = Intersect [ #3 , #6 ] Predicate [ #3.first_name = #6.first_name ] Output [ #3.country_code , #3.first_name ] ; -- What are the country code and first name of the players who won in both tourney WTA Championships and Australian Open?\n",
      "Error: ('42S02', \"[42S02] [Microsoft][ODBC Driver 18 for SQL Server][SQL Server]Invalid object name 'wta_1.match'. (208) (SQLExecDirectW)\")\n",
      "--------------------\n",
      "Error executing prediction QPL\n",
      "#1 = Scan Table [ match ] Predicate [ round = 'Final' ] Output [ round , winner_id ] ; -- What are the ids for players who won the WTA Championships?\n",
      "#2 = Scan Table [ players ] Output [ country_code , player_id , first_name ] ; -- What are the ids, first names and country codes of all players?\n",
      "#3 = Join [ #1 , #2 ] Predicate [ #1.winner_id = #2.player_id ] Output [ #2.country_code , #2.first_name ] ; -- What are the first names and country codes for players who won the WTA Championships?\n",
      "#4 = Scan Table [ match ] Predicate [ tourney_name = 'Australian Open' ] Output [ tourney_name , winner_id ] ; -- What are the ids for players who won the Australian Open?\n",
      "#5 = Scan Table [ players ] Output [ country_code , player_id , first_name ] ; -- What are the ids, first names and country codes of all players?\n",
      "#6 = Join [ #4 , #5 ] Predicate [ #4.winner_id = #5.player_id ] Output [ #5.country_code , #5.first_name ] ; -- What are the first names and country codes for players who won the Australian Open?\n",
      "#7 = Intersect [ #3 , #6 ] Predicate [ #3.first_name = #6.first_name ] Output [ #3.first_name , #3.country_code ] ; -- What are the first names and country codes for players who won both the WTA Championships and the Australian Open?\n",
      "Error: ('42S02', \"[42S02] [Microsoft][ODBC Driver 18 for SQL Server][SQL Server]Invalid object name 'wta_1.match'. (208) (SQLExecDirectW)\")\n",
      "--------------------\n"
     ]
    },
    {
     "name": "stderr",
     "output_type": "stream",
     "text": [
      "Processing examples:  45%|████▌     | 466/1034 [00:12<00:36, 15.71it/s]"
     ]
    },
    {
     "name": "stdout",
     "output_type": "stream",
     "text": [
      "Error executing prediction QPL\n",
      "#1 = Scan Table [ match ] Output [ winner_name , winner_rank_points ] ; -- What is the name of the winner in all matches, and how many rank points does this player have.\n",
      "#2 = Aggregate [ #1 ] GroupBy [ winner_rank_points , winner_name ] Output [ countstar AS Count_Star , winner_name , winner_rank_points ] ; -- What are the different names of winners and the corresponding number of wins in matches and and how many rank points does this player have?\n",
      "#3 = TopSort [ #2 ] Rows [ 1 ] OrderBy [ Count_Star DESC ] Output [ Count_Star , winner_name , winner_rank_points ] ; -- What is the name of the winner who has won the most matches, and how many rank points does this player have?\n",
      "Error: ('42S02', \"[42S02] [Microsoft][ODBC Driver 18 for SQL Server][SQL Server]Invalid object name 'wta_1.match'. (208) (SQLExecDirectW)\")\n",
      "--------------------\n",
      "Error executing prediction QPL\n",
      "#1 = Scan Table [ match ] Predicate [ tourney_name = 'Australian Open' ] Output [ tourney_name , winner_rank_points , winner_name ] ; -- Find the name and rank points of winners participated in the Australian Open tourney.\n",
      "#2 = TopSort [ #1 ] Rows [ 1 ] OrderBy [ winner_rank_points DESC ] Output [ winner_rank_points , winner_name ] ; -- Find the name of the winner who has the highest rank points and participated in the Australian Open tourney.\n",
      "Error: ('42S02', \"[42S02] [Microsoft][ODBC Driver 18 for SQL Server][SQL Server]Invalid object name 'wta_1.match'. (208) (SQLExecDirectW)\")\n",
      "--------------------\n",
      "Error executing prediction QPL\n",
      "#1 = Scan Table [ match ] Predicate [ tourney_name = 'Australian Open' ] Output [ tourney_name , winner_rank_points , winner_name ] ; -- What are the name and rank points of the winners who participated in the Australian Open tournament?\n",
      "#2 = TopSort [ #1 ] Rows [ 1 ] OrderBy [ winner_rank_points DESC ] Output [ winner_rank_points , winner_name ] ; -- What is the name of the winner with the most rank points who participated in the Australian Open tournament?\n",
      "Error: ('42S02', \"[42S02] [Microsoft][ODBC Driver 18 for SQL Server][SQL Server]Invalid object name 'wta_1.match'. (208) (SQLExecDirectW)\")\n",
      "--------------------\n"
     ]
    },
    {
     "name": "stderr",
     "output_type": "stream",
     "text": [
      "Processing examples:  45%|████▌     | 470/1034 [00:13<01:02,  9.08it/s]"
     ]
    },
    {
     "name": "stdout",
     "output_type": "stream",
     "text": [
      "Error executing prediction QPL\n",
      "#1 = Scan Table [ player ] Output [ last_name , player_id , first_name ] ; -- What are the ids and names of all players?\n",
      "#2 = Scan Table [ rankings ] Output [ player_id , ranking ] ; -- What are the ids of all players, and their rankings?\n",
      "#3 = Join [ #1 , #2 ] Predicate [ #1.player_id = #2.player_id ] Output [ #2.ranking , #1.first_name ] ; -- What are the first names of all players, and their rankings?\n",
      "#4 = Aggregate [ #3 ] GroupBy [ first_name ] Output [ AVG(ranking) AS Avg_ranking , first_name ] ; -- What are the first names of all players, and their average rankings?\n",
      "Error: ('42S02', \"[42S02] [Microsoft][ODBC Driver 18 for SQL Server][SQL Server]Invalid object name 'wta_1.player'. (208) (SQLExecDirectW)\")\n",
      "--------------------\n"
     ]
    },
    {
     "name": "stderr",
     "output_type": "stream",
     "text": [
      "Processing examples:  46%|████▌     | 477/1034 [00:16<01:49,  5.10it/s]"
     ]
    },
    {
     "name": "stdout",
     "output_type": "stream",
     "text": [
      "Error executing prediction QPL\n",
      "#1 = Scan Table [ country ] Output [ Country_code ] ; -- Find the codes of countries of all players.\n",
      "#2 = Aggregate [ #1 ] GroupBy [ Country_code ] Output [ countstar AS Count_Star , Country_code ] ; -- Find the number of players for each country code.\n",
      "#3 = Filter [ #2 ] Predicate [ Count_Star > 50 ] Output [ Country_code ] ; -- Find the codes of countries that have more than 50 players.\n",
      "Error: ('42S02', \"[42S02] [Microsoft][ODBC Driver 18 for SQL Server][SQL Server]Invalid object name 'wta_1.country'. (208) (SQLExecDirectW)\")\n",
      "--------------------\n"
     ]
    },
    {
     "name": "stderr",
     "output_type": "stream",
     "text": [
      "Processing examples:  48%|████▊     | 501/1034 [00:17<00:24, 21.46it/s]"
     ]
    },
    {
     "name": "stdout",
     "output_type": "stream",
     "text": [
      "Error executing prediction QPL\n",
      "#1 = Scan Table [ death ] Output [ injured ] ; -- What is the number of injuries caused each time?\n",
      "#2 = Aggregate [ #1 ] GroupBy [ time ] Output [ countstar AS Count_Star , AVG(injured) AS Avg_injured ] ; -- What is the average number of injuries caused each time?\n",
      "Error: ('42S22', \"[42S22] [Microsoft][ODBC Driver 18 for SQL Server][SQL Server]Invalid column name 'time'. (207) (SQLExecDirectW)\")\n",
      "--------------------\n",
      "Error executing prediction QPL\n",
      "#1 = Scan Table [ ship ] Output [ lost_in_battle , id ] ; -- What are the ids of all ships and the id of the battle in which they were lost?\n",
      "#2 = Scan Table [ battle ] Output [ name , id ] ; -- What are the ids and names of all the battles?\n",
      "#3 = Join [ #1 , #2 ] Predicate [ #1.lost_in_battle = #2.id ] Output [ #2.name , #2.id ] ; -- What are the ids and names of the battles where a ship was lost?\n",
      "#4 = Scan Table [ death ] Output [ killed , caused_by_ship_id ] ; -- What is the number of people killed in all death events and the id of the ship that caused the death?\n",
      "#5 = Join [ #3 , #4 ] Predicate [ #3.id = #4.caused_by_ship_id ] Output [ #3.name , #4.killed ] ; -- What is the number of people killed in a ship in all death events and the id and name of the battle in which the ship was lost?\n",
      "#6 = Aggregate [ #5 ] GroupBy [ name ] Output [ name , SUM(killed) AS Sum_killed , id ] ; -- For each battle, what is the id and name and the total number of people killed?\n",
      "#7 = Filter [ #6 ] Predicate [ Sum_killed > 10 ] Output [ name , id ] ; -- What are the ids and names of the battles that led to more than 10 people killed in total.\n",
      "Error: ('42S22', \"[42S22] [Microsoft][ODBC Driver 18 for SQL Server][SQL Server]Invalid column name 'id'. (207) (SQLExecDirectW)\")\n",
      "--------------------\n"
     ]
    },
    {
     "name": "stderr",
     "output_type": "stream",
     "text": [
      "Processing examples:  52%|█████▏    | 533/1034 [00:19<00:21, 23.23it/s]"
     ]
    },
    {
     "name": "stdout",
     "output_type": "stream",
     "text": [
      "Error executing prediction QPL\n",
      "#1 = Scan Table [ Sections ] Output [ course_id ] ; -- What are the ids of courses of all sections?\n",
      "#2 = Scan Table [ Courses ] Output [ course_name , course_id ] ; -- What are the ids and names of all courses?\n",
      "#3 = Join [ #1 , #2 ] Predicate [ #1.course_id = #2.course_id ] Output [ #2.course_name , #1.course_id ] ; -- What are the ids of courses and names of courses of all sections?\n",
      "#4 = Aggregate [ #3 ] GroupBy [ course_id ] Output [ countstar AS Count_Star , course_name ] ; -- What is the number of sections for each course?\n",
      "#5 = Filter [ #4 ] Predicate [ Count_Star <= 2 ] Output [ course_name , course_id ] ; -- What are the names and id of courses having at most 2 sections?\n",
      "Error: ('42S22', \"[42S22] [Microsoft][ODBC Driver 18 for SQL Server][SQL Server]Invalid column name 'course_id'. (207) (SQLExecDirectW)\")\n",
      "--------------------\n",
      "Error executing prediction QPL\n",
      "#1 = Scan Table [ Sections ] Output [ course_id ] ; -- What are the ids of courses of all sections?\n",
      "#2 = Scan Table [ Courses ] Output [ course_name , course_id ] ; -- What are the ids and names of all courses?\n",
      "#3 = Join [ #1 , #2 ] Predicate [ #1.course_id = #2.course_id ] Output [ #2.course_name , #1.course_id ] ; -- What are the ids of courses and names of courses of all sections?\n",
      "#4 = Aggregate [ #3 ] GroupBy [ course_id ] Output [ countstar AS Count_Star , course_name ] ; -- What is the number of sections for each course?\n",
      "#5 = Filter [ #4 ] Predicate [ Count_Star < 2 ] Output [ course_name , course_id ] ; -- What are the names and ids of every course with less than 2 sections?\n",
      "Error: ('42S22', \"[42S22] [Microsoft][ODBC Driver 18 for SQL Server][SQL Server]Invalid column name 'course_id'. (207) (SQLExecDirectW)\")\n",
      "--------------------\n"
     ]
    },
    {
     "name": "stderr",
     "output_type": "stream",
     "text": [
      "Processing examples:  53%|█████▎    | 553/1034 [00:19<00:14, 32.96it/s]"
     ]
    },
    {
     "name": "stdout",
     "output_type": "stream",
     "text": [
      "Error executing prediction QPL\n",
      "#1 = Scan Table [ Student_Enrolment ] Output [ course_id ] ; -- What's the id of the course of all enrollments?\n",
      "#2 = Scan Table [ Courses ] Output [ course_name , course_id ] ; -- What's the ids and names of all courses?\n",
      "#3 = Join [ #1 , #2 ] Predicate [ #1.course_id = #2.course_id ] Output [ #2.course_name ] ; -- What's the name of the course of all enrollments?\n",
      "#4 = Aggregate [ #3 ] GroupBy [ course_name ] Output [ countstar AS Count_Star , course_name ] ; -- What's the name of the course and number of enrollments for each course?\n",
      "#5 = TopSort [ #4 ] Rows [ 1 ] OrderBy [ Count_Star DESC ] Output [ course_name , Count_Star ] ; -- What's the name of the course with most number of enrollments?\n",
      "Error: ('42S22', \"[42S22] [Microsoft][ODBC Driver 18 for SQL Server][SQL Server]Invalid column name 'course_id'. (207) (SQLExecDirectW)\")\n",
      "--------------------\n",
      "Error executing prediction QPL\n",
      "#1 = Scan Table [ Student_Enrolment ] Output [ course_id ] ; -- What is the id of the course of all students enrollments?\n",
      "#2 = Scan Table [ Courses ] Output [ course_name , course_id ] ; -- What is the id and name of all courses.\n",
      "#3 = Join [ #1 , #2 ] Predicate [ #1.course_id = #2.course_id ] Output [ #2.course_name ] ; -- What is the name of the course of all students enrollments?\n",
      "#4 = Aggregate [ #3 ] GroupBy [ course_name ] Output [ countstar AS Count_Star , course_name ] ; -- What is the number of students enrolled in each course?\n",
      "#5 = TopSort [ #4 ] Rows [ 1 ] OrderBy [ Count_Star DESC ] Output [ course_name , Count_Star ] ; -- What is the name of the course with the most students enrolled?\n",
      "Error: ('42S22', \"[42S22] [Microsoft][ODBC Driver 18 for SQL Server][SQL Server]Invalid column name 'course_id'. (207) (SQLExecDirectW)\")\n",
      "--------------------\n",
      "Error executing prediction QPL\n",
      "#1 = Scan Table [ Transcript_Contents ] Output [ transcript_id ] ; -- Show the id of the transcript in all records of student course result reported in a transcript.\n",
      "#2 = Aggregate [ #1 ] GroupBy [ transcript_id ] Output [ countstar AS Count_Star , transcript_id ] ; -- Show the number of course results for each transcript id.\n",
      "#3 = Scan Table [ Transcripts ] Output [ transcript_date , transcript_id ] ; -- Show the id and date of all transcript.\n",
      "#4 = Join [ #2 , #3 ] Predicate [ #2.transcript_id = #3.transcript_id ] Output [ #3.transcript_date , #2.Count_Star ] ; -- Show the id and number of course results for each transcript.\n",
      "#5 = Filter [ #4 ] Predicate [ Count_Star >= 2 ] Output [ transcript_date , transcript_id ] ; -- Show the date and id of the transcript with at least 2 course results.\n",
      "Error: ('42S22', \"[42S22] [Microsoft][ODBC Driver 18 for SQL Server][SQL Server]Invalid column name 'transcript_id'. (207) (SQLExecDirectW)\")\n",
      "--------------------\n",
      "Error executing prediction QPL\n",
      "#1 = Scan Table [ Transcript_Contents ] Output [ transcript_id ] ; -- What is the id of the transcript in all records of student course reported in a transcript?\n",
      "#2 = Aggregate [ #1 ] GroupBy [ transcript_id ] Output [ countstar AS Count_Star , transcript_id ] ; -- What is the number of listed courses for each transcript id?\n",
      "#3 = Scan Table [ Transcripts ] Output [ transcript_date , transcript_id ] ; -- What is the id and date of all transcript?\n",
      "#4 = Join [ #2 , #3 ] Predicate [ #2.transcript_id = #3.transcript_id ] Output [ #3.transcript_date , #2.Count_Star ] ; -- What is the id and the number of listed courses for each transcript?\n",
      "#5 = Filter [ #4 ] Predicate [ Count_Star >= 2 ] Output [ transcript_date , transcript_id ] ; -- What is the date and id of the transcript with at least 2 courses listed?\n",
      "Error: ('42S22', \"[42S22] [Microsoft][ODBC Driver 18 for SQL Server][SQL Server]Invalid column name 'transcript_id'. (207) (SQLExecDirectW)\")\n",
      "--------------------\n"
     ]
    },
    {
     "name": "stderr",
     "output_type": "stream",
     "text": [
      "Processing examples:  54%|█████▍    | 561/1034 [00:19<00:15, 31.26it/s]"
     ]
    },
    {
     "name": "stdout",
     "output_type": "stream",
     "text": [
      "Error executing prediction QPL\n",
      "#1 = Scan Table [ Students ] Output [ last_name , date_first_registered , middle_name , graduation_date , first_name ] ; -- What is the first, middle, last name and graduation date of all students?\n",
      "#2 = TopSort [ #1 ] Rows [ 1 ] OrderBy [ graduation_date ASC ] Output [ last_name , date_first_registered , middle_name , graduation_date , first_name ] ; -- What is the first, middle, and last name of the earliest school graduate?\n",
      "Error: ('42S22', \"[42S22] [Microsoft][ODBC Driver 18 for SQL Server][SQL Server]Invalid column name 'graduation_date'. (207) (SQLExecDirectW)\")\n",
      "--------------------\n"
     ]
    },
    {
     "name": "stderr",
     "output_type": "stream",
     "text": [
      "Processing examples:  65%|██████▍   | 669/1034 [00:22<00:09, 37.31it/s]"
     ]
    },
    {
     "name": "stdout",
     "output_type": "stream",
     "text": [
      "Error executing prediction QPL\n",
      "#1 = Scan Table [ poker_player ] Output [ Poker_Player_ID , Final_Table_Made ] ; -- List the ids and final tables made of all poker players.\n",
      "#2 = Scan Table [ people ] Output [ People_ID , Name ] ; -- List the ids and names of all people.\n",
      "#3 = Join [ #1 , #2 ] Predicate [ #1.People_ID = #2.People_ID ] Output [ #2.Name , #1.Final_Table_Made ] ; -- List the names and final tables made of all poker players.\n",
      "#4 = Sort [ #3 ] OrderBy [ Final_Table_Made ASC ] Output [ Final_Table_Made , Name ] ; -- List the names of poker players ordered by the final tables made in ascending order.\n",
      "Error: ('42S22', \"[42S22] [Microsoft][ODBC Driver 18 for SQL Server][SQL Server]Invalid column name 'People_ID'. (207) (SQLExecDirectW)\")\n",
      "--------------------\n"
     ]
    },
    {
     "name": "stderr",
     "output_type": "stream",
     "text": [
      "Processing examples:  68%|██████▊   | 701/1034 [00:23<00:10, 32.75it/s]"
     ]
    },
    {
     "name": "stdout",
     "output_type": "stream",
     "text": [
      "Error executing prediction QPL\n",
      "#1 = Scan Table [ VOTES ] Output [ contestant_number ] ; -- What are the contestant numbers of all votes?\n",
      "#2 = Aggregate [ #1 ] GroupBy [ contestant_number ] Output [ countstar AS Count_Star , contestant_number ] ; -- What is the number of votes for each contestant number?\n",
      "#3 = Scan Table [ CONTESTANTS ] Output [ contestant_number , contestant_name ] ; -- What are the numbers and names of all contestants?\n",
      "#4 = Join [ #2 , #3 ] Predicate [ #2.contestant_number = #3.contestant_number ] Output [ #3.contestant_name , #2.Count_Star ] ; -- What is the number of votes for each contestant?\n",
      "#5 = Filter [ #4 ] Predicate [ Count_Star >= 2 ] Output [ contestant_number , contestant_name ] ; -- What are the contestant numbers and names of the contestants who had at least two votes?\n",
      "Error: ('42S22', \"[42S22] [Microsoft][ODBC Driver 18 for SQL Server][SQL Server]Invalid column name 'contestant_number'. (207) (SQLExecDirectW)\")\n",
      "--------------------\n"
     ]
    },
    {
     "name": "stderr",
     "output_type": "stream",
     "text": [
      "Processing examples:  72%|███████▏  | 745/1034 [00:25<00:08, 33.56it/s]"
     ]
    },
    {
     "name": "stdout",
     "output_type": "stream",
     "text": [
      "Error executing prediction QPL\n",
      "#1 = Scan Table [ country ] Predicate [ LocalName = 'Afghanistan' ] Output [ Code , LocalName ] ; -- Find the code of Afghanistan country.\n",
      "#2 = Scan Table [ countrylanguage ] Output [ IsOfficial , CountryCode ] ; -- Find the country code and the indication whether the language is an official language in all records of a country and language that is spoken in this country.\n",
      "#3 = Filter [ #2 ] Predicate [ IsOfficial = 'Y' ] Output [ CountryCode ] ; -- Find the country code in all records of a country and language that is an official language in this country.\n",
      "#4 = Join [ #1 , #3 ] Predicate [ #1.Code = #3.CountryCode ] Output [ #1.LocalName , #1.Code , #1.IsOfficial , #1.Percentage ] ; -- List 1 for each official language Afghanistan has.\n",
      "#5 = Aggregate [ #4 ] Output [ countstar AS Count_Star ] ; -- How many official languages does Afghanistan have?\n",
      "Error: ('42S22', \"[42S22] [Microsoft][ODBC Driver 18 for SQL Server][SQL Server]Invalid column name 'IsOfficial'. (207) (SQLExecDirectW)\")\n",
      "--------------------\n"
     ]
    },
    {
     "name": "stderr",
     "output_type": "stream",
     "text": [
      "Processing examples:  76%|███████▌  | 785/1034 [00:26<00:08, 30.32it/s]"
     ]
    },
    {
     "name": "stdout",
     "output_type": "stream",
     "text": [
      "Error executing prediction QPL\n",
      "#1 = Scan Table [ countrylanguage ] Output [ CountryCode , Language ] ; -- What are the country codes in all records of a country and the language spoken in this country?\n",
      "#2 = Aggregate [ #1 ] GroupBy [ CountryCode ] Output [ CountryCode , MAX(Percentage) AS Max_Percentage , Language ] ; -- What are the different country codes in all records of a country and the language spoken in this country?\n",
      "#3 = Scan Table [ countrylanguage ] Predicate [ Language = 'English' ] Output [ CountryCode , Language ] ; -- What are the country codes for countries that speak English?\n",
      "#4 = Except [ #2 , #3 ] Predicate [ #3.CountryCode = #2.CountryCode ] Output [ #2.CountryCode ] ; -- What are the country codes for countries that do not speak English?\n",
      "Error: ('42S22', \"[42S22] [Microsoft][ODBC Driver 18 for SQL Server][SQL Server]Invalid column name 'Percentage'. (207) (SQLExecDirectW)\")\n",
      "--------------------\n",
      "Error converting prediction to CTE\n",
      "#1 = Scan Table [ countrylanguage ] Output [ CountryCode , Language ] ; -- Return the country codes in all records of a country and the language spoken in this country.\n",
      "#2 = Aggregate [ #1 ] GroupBy [ CountryCode ] Output [ CountryCode , MAX(Percentage) AS Max_Percentage , Language ] ; -- Return the different country codes in all records of a country and the language spoken in this country.\n",
      "#3 = Scan Table [ countrylanguage ] Predicate [ Language = 'English' ] Output [ CountryCode , Language ] ; -- Return the country codes for countries that speak English.\n",
      "#4 = Except [ #2 , #3 ] Predicate [ #2.Max_Percentage > #3.Percentage ] Output [ #2.CountryCode ] ; -- Return the country codes for countries that do not speak English.\n",
      "Error: Unknown Except variant\n",
      "--------------------\n"
     ]
    },
    {
     "name": "stderr",
     "output_type": "stream",
     "text": [
      "Processing examples:  98%|█████████▊| 1012/1034 [00:33<00:00, 34.38it/s]"
     ]
    },
    {
     "name": "stdout",
     "output_type": "stream",
     "text": [
      "Error executing prediction QPL\n",
      "#1 = Scan Table [ singer ] Predicate [ Citizenship <> 'France' ] Output [ Nationality , Name ] ; -- What are the names of the singers who are not French citizens?\n",
      "Error: ('42S22', \"[42S22] [Microsoft][ODBC Driver 18 for SQL Server][SQL Server]Invalid column name 'Nationality'. (207) (SQLExecDirectW)\")\n",
      "--------------------\n"
     ]
    },
    {
     "name": "stderr",
     "output_type": "stream",
     "text": [
      "Processing examples: 100%|██████████| 1034/1034 [00:34<00:00, 30.26it/s]"
     ]
    },
    {
     "name": "stdout",
     "output_type": "stream",
     "text": [
      "Execution accuracy: 891/1031 (86.42%)\n",
      "Gold errors: 0/1031 (0.00%)\n",
      "Prediction errors: 34/1031 (3.30%)\n"
     ]
    },
    {
     "name": "stderr",
     "output_type": "stream",
     "text": [
      "\n"
     ]
    }
   ],
   "source": [
    "# Calculate execution accuracy and error rate\n",
    "from tqdm import tqdm\n",
    "\n",
    "gold_errs = 0\n",
    "pred_errs = 0\n",
    "execution_accuracy = 0\n",
    "total_pred = 0\n",
    "\n",
    "for example in tqdm(nl2qpl_data, desc=\"Processing examples\"):\n",
    "    trees = [t for t in root_qd_trees if t.question == example['question']]\n",
    "    total_pred += len(trees)\n",
    "    gold = example['query']\n",
    "    for tree in trees:\n",
    "        pred = tree.qpl\n",
    "\n",
    "        flat_pred = [line[:line.index('--')] if '--' in line else line for line in pred.split('\\n')]\n",
    "        flat_pred = [l for l in flat_pred if l.strip() and '`' not in l]\n",
    "\n",
    "        db_id = tree.db_id if tree.db_id != 'car_11' else 'car_1'\n",
    "\n",
    "        try:\n",
    "            pred_cte = flat_qpl_to_cte(flat_pred, db_id)\n",
    "        except Exception as e:\n",
    "            print(f\"Error converting prediction to CTE\\n{pred}\")\n",
    "            print(f\"Error: {e}\")\n",
    "            print('-'*20)\n",
    "            pred_errs += 1\n",
    "            continue\n",
    "\n",
    "        try:\n",
    "            grs = execute_sql(cursor, gold)\n",
    "        except Exception as e:\n",
    "            print(f\"Error executing gold QPL\\n{gold}\")\n",
    "            print(f\"Error: {e}\")\n",
    "            print(f\"Database ID: {db_id}\")\n",
    "            print('-'*20)\n",
    "            gold_errs += 1\n",
    "            continue\n",
    "        else:\n",
    "            try:\n",
    "                prs = execute_sql(cursor, pred_cte)\n",
    "                same = same_rs(grs, prs, flat_pred)\n",
    "            except Exception as e:\n",
    "                print(f\"Error executing prediction QPL\\n{pred}\")\n",
    "                print(f\"Error: {e}\")\n",
    "                print('-'*20)\n",
    "                pred_errs += 1\n",
    "                continue\n",
    "        \n",
    "        if same:\n",
    "            execution_accuracy += 1\n",
    "\n",
    "print(f\"Execution accuracy: {execution_accuracy}/{total_pred} ({execution_accuracy / total_pred * 100:.2f}%)\")\n",
    "print(f\"Gold errors: {gold_errs}/{total_pred} ({gold_errs / total_pred * 100:.2f}%)\")\n",
    "print(f\"Prediction errors: {pred_errs}/{total_pred} ({pred_errs / total_pred * 100:.2f}%)\")"
   ]
  },
  {
   "cell_type": "markdown",
   "id": "07bf8ff4",
   "metadata": {},
   "source": [
    "### Rule Based (Deprecated)"
   ]
  },
  {
   "cell_type": "code",
   "execution_count": null,
   "id": "25fdf28c",
   "metadata": {},
   "outputs": [],
   "source": [
    "import re\n",
    "from typing import List\n",
    "\n",
    "prompter = PrompterRegistry.get(DATASET_ID)(with_assistant=True)\n",
    "chat_templates = []\n",
    "for example in test_dataset:\n",
    "    chat_templates.append(prompter.to_chat_template(example))\n",
    "\n",
    "\n",
    "def equivalent_bracketed_lines(\n",
    "        true_line: str,\n",
    "        generated_line: str,\n",
    "        *,\n",
    "        require_exact_names: bool = False,\n",
    "        ignore_case: bool = True\n",
    "    ) -> bool:\n",
    "    _ZERO_DECIMAL = re.compile(r'(?<![\\d.])(\\d+)\\.0+\\b')\n",
    "    _TABLE_COL    = re.compile(r'#\\d+\\.\\s*[\\w$]+', flags=re.I)\n",
    "    _EQUALITY     = re.compile(rf'({_TABLE_COL.pattern})\\s*=\\s*({_TABLE_COL.pattern})', flags=re.I)\n",
    "\n",
    "    def _norm_nums(txt: str) -> str:\n",
    "        return _ZERO_DECIMAL.sub(r'\\1', txt)\n",
    "\n",
    "    # ---- build equivalence classes from join predicates\n",
    "    def _build_equiv_map(*lines: str) -> dict[str, str]:\n",
    "        parent = {}\n",
    "\n",
    "        def find(x):\n",
    "            parent.setdefault(x, x)\n",
    "            if parent[x] != x:\n",
    "                parent[x] = find(parent[x])\n",
    "            return parent[x]\n",
    "\n",
    "        def union(a, b):\n",
    "            ra, rb = find(a), find(b)\n",
    "            if ra != rb:\n",
    "                parent[rb] = ra\n",
    "\n",
    "        for line in lines:\n",
    "            for block in re.findall(r'Predicate\\s*\\[([^\\]]*)\\]',\n",
    "                                    _norm_nums(line), flags=re.I):\n",
    "                for left, right in _EQUALITY.findall(block):\n",
    "                    l = left.replace(' ', '')\n",
    "                    r = right.replace(' ', '')\n",
    "                    if ignore_case:\n",
    "                        l, r = l.upper(), r.upper()\n",
    "                    union(l, r)\n",
    "\n",
    "        equiv = {}\n",
    "        for full in parent:\n",
    "            col = full.split('.', 1)[1]\n",
    "            root = find(full)\n",
    "            equiv[full] = col.upper() if ignore_case else col\n",
    "            if root not in equiv:\n",
    "                equiv[root] = equiv[full]\n",
    "        return equiv\n",
    "\n",
    "    EQUIV = _build_equiv_map(true_line, generated_line)\n",
    "\n",
    "    # ---- compare skeletons (outside brackets)\n",
    "    def _skeleton(txt: str) -> str:\n",
    "        txt = _norm_nums(txt)\n",
    "        txt = re.sub(r'\\[[^\\]]*]', '[]', txt)\n",
    "        txt = re.sub(r'\\s+', ' ', txt).strip()\n",
    "        return txt.upper() if ignore_case else txt\n",
    "\n",
    "    if _skeleton(true_line) != _skeleton(generated_line):\n",
    "        return False\n",
    "\n",
    "    # ---- helper to extract bracket contents\n",
    "    blocks = lambda s: re.findall(r'\\[([^\\]]*)]', _norm_nums(s))\n",
    "\n",
    "    t_blocks, g_blocks = blocks(true_line), blocks(generated_line)\n",
    "    if len(t_blocks) != len(g_blocks):\n",
    "        return False\n",
    "\n",
    "    # ---- canonicalise individual tokens\n",
    "    def canon(tok: str) -> str:\n",
    "        tok = re.split(r'\\s+AS\\s+', tok, flags=re.I)[0]\n",
    "        tok = re.sub(r'\\s+', ' ', tok).strip()\n",
    "        tok = _norm_nums(tok)\n",
    "\n",
    "        def repl(m):\n",
    "            key = m.group(0).replace(' ', '')\n",
    "            key = key.upper() if ignore_case else key\n",
    "            return EQUIV.get(key, m.group(0))\n",
    "\n",
    "        tok = _TABLE_COL.sub(repl, tok)\n",
    "        return tok.upper() if ignore_case else tok\n",
    "\n",
    "    # ---- compare each corresponding block\n",
    "    for tb, gb in zip(t_blocks, g_blocks):\n",
    "        t_set = {canon(tok) for tok in tb.split(',') if tok.strip()}\n",
    "        g_set = {canon(tok) for tok in gb.split(',') if tok.strip()}\n",
    "\n",
    "        if require_exact_names:\n",
    "            if t_set != g_set:\n",
    "                return False\n",
    "        else:\n",
    "            if not t_set.issubset(g_set):\n",
    "                return False\n",
    "\n",
    "    return True\n",
    "\n",
    "\n",
    "acc = 0\n",
    "for out, chat_template, example in tqdm(zip(outputs, chat_templates, test_dataset), desc=\"Evaluating\", total=len(outputs)):\n",
    "    label = chat_template['messages'][-1]['content']\n",
    "    equivalent = equivalent_bracketed_lines(\n",
    "        label,\n",
    "        out,\n",
    "    )\n",
    "    if not equivalent:\n",
    "        print(\"Question:\")\n",
    "        print(example['question'])\n",
    "        print('-'*40)\n",
    "        print(\"Predicted:\")\n",
    "        print(example['op'], out)\n",
    "        print('-'*40)\n",
    "        print(\"True:\")\n",
    "        print(example['op'], label)\n",
    "        print(\"=\" * 80)\n",
    "    else:\n",
    "        acc += 1\n",
    "\n",
    "print(f\"Accuracy: {acc}/{len(outputs)} = {acc / len(outputs) * 100:.2f}%\")"
   ]
  }
 ],
 "metadata": {
  "kernelspec": {
   "display_name": "finetune-llm (3.11.12)",
   "language": "python",
   "name": "python3"
  },
  "language_info": {
   "codemirror_mode": {
    "name": "ipython",
    "version": 3
   },
   "file_extension": ".py",
   "mimetype": "text/x-python",
   "name": "python",
   "nbconvert_exporter": "python",
   "pygments_lexer": "ipython3",
   "version": "3.13.5"
  }
 },
 "nbformat": 4,
 "nbformat_minor": 5
}
