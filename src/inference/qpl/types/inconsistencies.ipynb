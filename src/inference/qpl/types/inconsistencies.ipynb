{
 "cells": [
  {
   "cell_type": "markdown",
   "id": "4de0f16f",
   "metadata": {},
   "source": [
    "# Inconsistencies\n",
    "\n",
    "This notebook contains inconsistencies between **manually labled** type datasets, and **automatically generated** type datasets.\n",
    "\n",
    "This shows that some of the natural language questions, do not fully correspong to their gold QPL."
   ]
  },
  {
   "cell_type": "code",
   "execution_count": 1,
   "id": "480bc1d8",
   "metadata": {},
   "outputs": [
    {
     "name": "stdout",
     "output_type": "stream",
     "text": [
      "Question: \u001b[92mList 1 for each concert in year 2014 or 2015.\u001b[0m Manual: \u001b[91m'Number'\u001b[0m\n",
      "QPL: \u001b[94m#1 = Scan Table [ concert ] Predicate [ Year = 2014 OR Year = 2015 ] Output [ Year ]\u001b[0m Auto: \u001b[91m'concert'\u001b[0m\n",
      "--------------------------------------------------------------------------------\n",
      "Question: \u001b[92mList 1 for each concert that occurred in 2014 or 2015.\u001b[0m Manual: \u001b[91m'Number'\u001b[0m\n",
      "QPL: \u001b[94m#1 = Scan Table [ concert ] Predicate [ Year = 2014 OR Year = 2015 ] Output [ Year ]\u001b[0m Auto: \u001b[91m'concert'\u001b[0m\n",
      "--------------------------------------------------------------------------------\n",
      "\u001b[93mSkipping row with error: Column 'Name' not in GroupBy and thus must be aggregated.\u001b[0m\n",
      "\u001b[93mSkipping row with error: Column 'Name' not in GroupBy and thus must be aggregated.\u001b[0m\n",
      "Question: \u001b[92mShow the stadium id of concerts in year 2014 or after.\u001b[0m Manual: \u001b[91m'stadium'\u001b[0m\n",
      "QPL: \u001b[94m#1 = Scan Table [ concert ] Predicate [ Year >= 2014 ] Output [ Year , Stadium_ID ]\u001b[0m Auto: \u001b[91m'concert, stadium'\u001b[0m\n",
      "--------------------------------------------------------------------------------\n",
      "\u001b[93mSkipping row with error: Column 'Capacity' not in GroupBy and thus must be aggregated.\u001b[0m\n",
      "\u001b[93mSkipping row with error: Column 'Capacity' not in GroupBy and thus must be aggregated.\u001b[0m\n",
      "Question: \u001b[92mWhat is the id of stadiums with concerts after 2013?\u001b[0m Manual: \u001b[91m'stadium'\u001b[0m\n",
      "QPL: \u001b[94m#1 = Scan Table [ concert ] Predicate [ Year > 2013 ] Output [ Year , Stadium_ID ]\u001b[0m Auto: \u001b[91m'concert, stadium'\u001b[0m\n",
      "--------------------------------------------------------------------------------\n",
      "\u001b[93mSkipping row with error: Column 'Capacity' not in GroupBy and thus must be aggregated.\u001b[0m\n",
      "\u001b[93mSkipping row with error: Column 'Capacity' not in GroupBy and thus must be aggregated.\u001b[0m\n",
      "Question: \u001b[92mWhich year has most number of concerts?\u001b[0m Manual: \u001b[91m'concert'\u001b[0m\n",
      "QPL: \u001b[94m#3 = TopSort [ #2 ] Rows [ 1 ] OrderBy [ Count_Star DESC ] Output [ Year , Count_Star ]\u001b[0m Auto: \u001b[91m'concert, Number'\u001b[0m\n",
      "--------------------------------------------------------------------------------\n",
      "Question: \u001b[92mWhat is the year that had the most concerts?\u001b[0m Manual: \u001b[91m'concert'\u001b[0m\n",
      "QPL: \u001b[94m#3 = TopSort [ #2 ] Rows [ 1 ] OrderBy [ Count_Star DESC ] Output [ Year , Count_Star ]\u001b[0m Auto: \u001b[91m'concert, Number'\u001b[0m\n",
      "--------------------------------------------------------------------------------\n",
      "Question: \u001b[92mShow stadium ids of concerts in year 2014.\u001b[0m Manual: \u001b[91m'stadium'\u001b[0m\n",
      "QPL: \u001b[94m#2 = Scan Table [ concert ] Predicate [ Year = 2014 ] Output [ Year , Stadium_ID ]\u001b[0m Auto: \u001b[91m'concert, stadium'\u001b[0m\n",
      "--------------------------------------------------------------------------------\n",
      "Question: \u001b[92mWhat are the ids of concerts in 2014?\u001b[0m Manual: \u001b[91m'concert'\u001b[0m\n",
      "QPL: \u001b[94m#2 = Scan Table [ concert ] Predicate [ Year = 2014 ] Output [ Year , Stadium_ID ]\u001b[0m Auto: \u001b[91m'concert, stadium'\u001b[0m\n",
      "--------------------------------------------------------------------------------\n",
      "Question: \u001b[92mFind the id of the stadiums which some concerts happened in the years of 2014.\u001b[0m Manual: \u001b[91m'stadium'\u001b[0m\n",
      "QPL: \u001b[94m#1 = Scan Table [ concert ] Predicate [ Year = 2014 ] Output [ Year , Stadium_ID ]\u001b[0m Auto: \u001b[91m'concert, stadium'\u001b[0m\n",
      "--------------------------------------------------------------------------------\n",
      "Question: \u001b[92mFind the id of the stadiums which some concerts happened in the years of 2015.\u001b[0m Manual: \u001b[91m'stadium'\u001b[0m\n",
      "QPL: \u001b[94m#4 = Scan Table [ concert ] Predicate [ Year = 2015 ] Output [ Year , Stadium_ID ]\u001b[0m Auto: \u001b[91m'concert, stadium'\u001b[0m\n",
      "--------------------------------------------------------------------------------\n",
      "Question: \u001b[92mWhat are the ids of the stadiums that had concerts that occurred in 2014?\u001b[0m Manual: \u001b[91m'stadium'\u001b[0m\n",
      "QPL: \u001b[94m#1 = Scan Table [ concert ] Predicate [ Year = 2014 ] Output [ Year , Stadium_ID ]\u001b[0m Auto: \u001b[91m'concert, stadium'\u001b[0m\n",
      "--------------------------------------------------------------------------------\n",
      "Question: \u001b[92mWhat are the ids of the stadiums that had concerts that occurred in 2015?\u001b[0m Manual: \u001b[91m'stadium'\u001b[0m\n",
      "QPL: \u001b[94m#4 = Scan Table [ concert ] Predicate [ Year = 2015 ] Output [ Year , Stadium_ID ]\u001b[0m Auto: \u001b[91m'concert, stadium'\u001b[0m\n",
      "--------------------------------------------------------------------------------\n",
      "Question: \u001b[92mList 1 for each concert that happened in the stadium with the highest capacity.\u001b[0m Manual: \u001b[91m'Number'\u001b[0m\n",
      "QPL: \u001b[94m#4 = Join [ #2 , #3 ] Predicate [ #2.Stadium_ID = #3.Stadium_ID ] Output [ #2.Capacity , #2.Stadium_ID ]\u001b[0m Auto: \u001b[91m'stadium'\u001b[0m\n",
      "--------------------------------------------------------------------------------\n",
      "Question: \u001b[92mList 1 for each concert that occurred in the stadium with the largest capacity.\u001b[0m Manual: \u001b[91m'Number'\u001b[0m\n",
      "QPL: \u001b[94m#4 = Join [ #2 , #3 ] Predicate [ #2.Stadium_ID = #3.Stadium_ID ] Output [ #2.Capacity , #2.Stadium_ID ]\u001b[0m Auto: \u001b[91m'stadium'\u001b[0m\n",
      "--------------------------------------------------------------------------------\n",
      "Accuracy: 119/133 = 85.61%\n"
     ]
    }
   ],
   "source": [
    "import json\n",
    "from src.utils.qpl.paths import AUTOMATICALLY_LABLED_TYPES_DATASETS, MANUALLY_LABLED_TYPES_DATASETS\n",
    "\n",
    "DB_ID = 'concert_singer'\n",
    "filename = f'auto_{DB_ID}.json'\n",
    "\n",
    "with open(AUTOMATICALLY_LABLED_TYPES_DATASETS / filename, 'r') as f:\n",
    "    automatic = json.load(f)\n",
    "\n",
    "with open(MANUALLY_LABLED_TYPES_DATASETS / filename, 'r') as f:\n",
    "    manual = json.load(f)\n",
    "\n",
    "manual_labels = {row['question']: row['type'] for row in manual}\n",
    "\n",
    "acc = 0\n",
    "for row in automatic:\n",
    "    if 'error' in row:\n",
    "        print(f\"\\033[93mSkipping row with error: {row['error']}\\033[0m\")\n",
    "        continue\n",
    "    type_set = set(manual_labels[row['question']].split(', '))\n",
    "    pred_type_set = set(row['type'].split(', '))\n",
    "    if type_set == pred_type_set:\n",
    "        acc += 1\n",
    "    else:\n",
    "        # print(json.dumps(row, indent=2))\n",
    "        print(f\"Question: \\033[92m{row['question']}\\033[0m Manual: \\033[91m{manual_labels[row['question']]!r}\\033[0m\")\n",
    "        print(f\"QPL: \\033[94m{row['qpl'][-1]}\\033[0m Auto: \\033[91m{row['type']!r}\\033[0m\")\n",
    "        print(\"-\"*80)\n",
    "\n",
    "print(f\"Accuracy: {acc}/{len([row for row in automatic if 'error' not in row])} = {acc/len(automatic):.2%}\")"
   ]
  }
 ],
 "metadata": {
  "kernelspec": {
   "display_name": ".venv",
   "language": "python",
   "name": "python3"
  },
  "language_info": {
   "codemirror_mode": {
    "name": "ipython",
    "version": 3
   },
   "file_extension": ".py",
   "mimetype": "text/x-python",
   "name": "python",
   "nbconvert_exporter": "python",
   "pygments_lexer": "ipython3",
   "version": "3.11.12"
  }
 },
 "nbformat": 4,
 "nbformat_minor": 5
}
